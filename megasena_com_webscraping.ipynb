{
 "cells": [
  {
   "cell_type": "code",
   "execution_count": null,
   "metadata": {},
   "outputs": [],
   "source": [
    "import pandas as pd\n",
    "import numpy as np\n",
    "import cfscrape\n",
    "from bs4 import BeautifulSoup\n",
    "from lxml import etree\n",
    "import re\n",
    "import time\n",
    "from tqdm import tqdm\n",
    "from ipykernel import kernelapp as app\n",
    "\n",
    "pd.options.mode.chained_assignment = None"
   ]
  },
  {
   "cell_type": "code",
   "execution_count": null,
   "metadata": {},
   "outputs": [],
   "source": [
    "pagina = \"https://www.google.com/search?q=caixa+mega+sena\"\n",
    "\n",
    "scraper = cfscrape.create_scraper()\n",
    "url = pagina\n",
    "result = scraper.get(url)\n",
    "soup = BeautifulSoup(result.content, 'html.parser')\n",
    "html_page = etree.HTML(str(soup))\n",
    "\n",
    "t = soup.find(class_='MDTDab').text\n",
    "\n",
    "numeros_sorteados = [int(t[0:2]),int(t[2:4]),int(t[4:6]),int(t[6:8]),int(t[8:10]),int(t[10:12])]"
   ]
  },
  {
   "cell_type": "code",
   "execution_count": null,
   "metadata": {},
   "outputs": [],
   "source": [
    "from random import sample\n",
    "\n",
    "class MegaSena:\n",
    "    \n",
    "    def __init__(self, dezenas, totalJogos):\n",
    "        \n",
    "        if dezenas >= 6 and dezenas <= 10:\n",
    "            self.__dezenas = dezenas\n",
    "        else:\n",
    "            print(\"Erro: insira a dezena entre 6, 7, 8, 9 ou 10\")\n",
    "            \n",
    "        self.__totalJogos = totalJogos\n",
    "        self.__resultado = None\n",
    "        self.__Jogos = None\n",
    "    \n",
    "    @property\n",
    "    def dezenas(self):\n",
    "        return self.__dezenas\n",
    "        \n",
    "    @dezenas.setter\n",
    "    def dezenas(self, value):\n",
    "        if value >= 6 and value <= 10:\n",
    "            self.__dezenas = value\n",
    "        else:\n",
    "            print(\"Erro: insira a dezena entre 6, 7, 8, 9 ou 10\")\n",
    "            \n",
    "    @property\n",
    "    def resultado(self):\n",
    "        return self.__resultado\n",
    "        \n",
    "    @resultado.setter\n",
    "    def resultado(self, value):\n",
    "        self.__resultado = value\n",
    "\n",
    "    @property\n",
    "    def totalJogos(self):\n",
    "        return self.__totalJogos\n",
    "        \n",
    "    @totalJogos.setter\n",
    "    def totalJogos(self, value):\n",
    "        self.__totalJogos = value\n",
    "        \n",
    "    @property\n",
    "    def Jogos(self):\n",
    "        return self.__Jogos\n",
    "        \n",
    "    @Jogos.setter\n",
    "    def Jogos(self, value):\n",
    "        self.__Jogos = value\n",
    "            \n",
    "    def __Sample(self):\n",
    "        dez = self.__dezenas\n",
    "        sorteados = sorted(sample(range(1, 61), dez), key=int)\n",
    "        return sorteados\n",
    "    \n",
    "    def sorteio(self):\n",
    "        return self.__Sample()\n",
    "    \n",
    "    def fazerJogos(self):\n",
    "        total_jogos = self.__totalJogos\n",
    "        jogo = []\n",
    "        for i in range(0,total_jogos):\n",
    "            jogo.append(self.sorteio())\n",
    "        self.__Jogos = jogo\n",
    "    \n",
    "    def fazerSorteio(self):\n",
    "        sorteio = sorted(sample(range(1, 61), 6), key=int)\n",
    "        self.__resultado = sorteio\n",
    "        \n",
    "    def conferirNumeros(self):\n",
    "        pagina = \"https://www.google.com/search?q=caixa+mega+sena\"\n",
    "        scraper = cfscrape.create_scraper()\n",
    "        url = pagina\n",
    "        result = scraper.get(url)\n",
    "        soup = BeautifulSoup(result.content, 'html.parser')\n",
    "        t = soup.find(class_='MDTDab').text\n",
    "        numeros_sorteados = [int(t[0:2]),int(t[2:4]),int(t[4:6]),int(t[6:8]),int(t[8:10]),int(t[10:12])]\n",
    "            \n",
    "        nossosNumeros = self.__Jogos\n",
    "        df = pd.DataFrame()\n",
    "        resultado = numeros_sorteados\n",
    "        jogo_n = []\n",
    "        numeros = []\n",
    "        resultado_sorteo = []\n",
    "        qnt_acertos = []\n",
    "        numeros_sorteados = []\n",
    "\n",
    "        for i in range(0,len(nossosNumeros)):\n",
    "            jogo_n.append(i+1)\n",
    "            numeros.append(str(nossosNumeros[i]).strip('[]'))\n",
    "            resultado_sorteo.append(str(resultado).strip('[]'))\n",
    "            qnt_acertos.append(len(set(nossosNumeros[i]).intersection(resultado)))\n",
    "            numeros_sorteados.append(0 if str(list(set(nossosNumeros[i]).intersection(resultado))).strip('[]') == '' else \\\n",
    "                                    str(list(set(nossosNumeros[i]).intersection(resultado))).strip('[]'))\n",
    "\n",
    "        df['Jogo Nº'] = jogo_n\n",
    "        df['Meus números'] = numeros\n",
    "        df['Dezenas Sorteadas'] = resultado_sorteo\n",
    "        df['Quantidade de acertos'] = qnt_acertos\n",
    "        df['Meus números sorteados'] = numeros_sorteados\n",
    "        return df"
   ]
  },
  {
   "cell_type": "code",
   "execution_count": null,
   "metadata": {},
   "outputs": [],
   "source": [
    "dezenas = int(input(\"Insira a quantidade de dezenas: \")) # Inserindo a quantidade de dezenas\n",
    "    \n",
    "while dezenas < 6 or dezenas > 10:\n",
    "    print(\"\\n\")\n",
    "    print(\"Insira um número entra 6 a 10\")\n",
    "    dezenas = int(input(\"Insira a quantidade de dezenas: \"))\n",
    "else:\n",
    "    pass\n",
    "    \n",
    "totalJogos = int(input(\"Insira a quantidade total de jogos: \"))"
   ]
  },
  {
   "cell_type": "code",
   "execution_count": null,
   "metadata": {},
   "outputs": [],
   "source": [
    "MegaSena = MegaSena(dezenas, totalJogos)"
   ]
  },
  {
   "cell_type": "code",
   "execution_count": null,
   "metadata": {},
   "outputs": [],
   "source": [
    "MegaSena.fazerJogos()\n",
    "MegaSena.Jogos"
   ]
  },
  {
   "cell_type": "code",
   "execution_count": null,
   "metadata": {},
   "outputs": [],
   "source": [
    "print(\"Números Mega Sena do último concurso\")\n",
    "print(numeros_sorteados)"
   ]
  },
  {
   "cell_type": "code",
   "execution_count": null,
   "metadata": {},
   "outputs": [],
   "source": [
    "MegaSena.conferirNumeros()"
   ]
  }
 ],
 "metadata": {
  "kernelspec": {
   "display_name": "Python 3",
   "language": "python",
   "name": "python3"
  },
  "language_info": {
   "codemirror_mode": {
    "name": "ipython",
    "version": 3
   },
   "file_extension": ".py",
   "mimetype": "text/x-python",
   "name": "python",
   "nbconvert_exporter": "python",
   "pygments_lexer": "ipython3",
   "version": "3.7.3"
  }
 },
 "nbformat": 4,
 "nbformat_minor": 2
}
